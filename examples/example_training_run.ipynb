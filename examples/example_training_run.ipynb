{
 "cells": [
  {
   "cell_type": "markdown",
   "metadata": {
    "id": "9nhTK0DKG45x"
   },
   "source": [
    "# Setup "
   ]
  },
  {
   "cell_type": "code",
   "execution_count": 1,
   "metadata": {
    "executionInfo": {
     "elapsed": 6,
     "status": "ok",
     "timestamp": 1655476302841,
     "user": {
      "displayName": "Gianluca Truda",
      "userId": "10545274143306236899"
     },
     "user_tz": -60
    },
    "id": "EztabF_kAjyD"
   },
   "outputs": [
    {
     "name": "stdout",
     "output_type": "stream",
     "text": [
      "/bin/bash: warning: setlocale: LC_ALL: cannot change locale (en_GB.UTF-8)\n",
      "/home/ubuntu/thesis-dp-synth\n"
     ]
    }
   ],
   "source": [
    "from pathlib import Path\n",
    "import os\n",
    "\n",
    "SRCDIR = \"dpgai\"\n",
    "DIR = Path(\"../thesis\")\n",
    "DATADIR = DIR / \"data\"\n",
    "RESULTDIR = DIR / \"results\"\n",
    "\n",
    "!pwd\n",
    "\n",
    "for p in [SRCDIR, DIR, DATADIR, RESULTDIR]:\n",
    "    if not os.path.exists(p):\n",
    "        print(f\"{p} does not exist\")"
   ]
  },
  {
   "cell_type": "code",
   "execution_count": 2,
   "metadata": {
    "colab": {
     "base_uri": "https://localhost:8080/"
    },
    "executionInfo": {
     "elapsed": 8,
     "status": "ok",
     "timestamp": 1655476329774,
     "user": {
      "displayName": "Gianluca Truda",
      "userId": "10545274143306236899"
     },
     "user_tz": -60
    },
    "id": "jcGRwOisznas",
    "outputId": "ef6a9c95-bc86-4db7-89e1-2707c723fa50"
   },
   "outputs": [
    {
     "name": "stdout",
     "output_type": "stream",
     "text": [
      "/bin/bash: warning: setlocale: LC_ALL: cannot change locale (en_GB.UTF-8)\n",
      "Python 3.10.11\n"
     ]
    }
   ],
   "source": [
    "!python3 --version"
   ]
  },
  {
   "cell_type": "code",
   "execution_count": 3,
   "metadata": {
    "colab": {
     "base_uri": "https://localhost:8080/"
    },
    "executionInfo": {
     "elapsed": 492,
     "status": "ok",
     "timestamp": 1655476330262,
     "user": {
      "displayName": "Gianluca Truda",
      "userId": "10545274143306236899"
     },
     "user_tz": -60
    },
    "id": "AcWYVYod5-om",
    "outputId": "9a37f8fe-b47e-4d4d-8441-a53194623447"
   },
   "outputs": [
    {
     "name": "stdout",
     "output_type": "stream",
     "text": [
      "/bin/bash: warning: setlocale: LC_ALL: cannot change locale (en_GB.UTF-8)\n",
      "Tue May 30 22:29:55 2023       \n",
      "+-----------------------------------------------------------------------------+\n",
      "| NVIDIA-SMI 515.65.01    Driver Version: 515.65.01    CUDA Version: 11.7     |\n",
      "|-------------------------------+----------------------+----------------------+\n",
      "| GPU  Name        Persistence-M| Bus-Id        Disp.A | Volatile Uncorr. ECC |\n",
      "| Fan  Temp  Perf  Pwr:Usage/Cap|         Memory-Usage | GPU-Util  Compute M. |\n",
      "|                               |                      |               MIG M. |\n",
      "|===============================+======================+======================|\n",
      "|   0  Tesla T4            On   | 00000000:00:1E.0 Off |                    0 |\n",
      "| N/A   42C    P8    16W /  70W |      2MiB / 15360MiB |      0%      Default |\n",
      "|                               |                      |                  N/A |\n",
      "+-------------------------------+----------------------+----------------------+\n",
      "                                                                               \n",
      "+-----------------------------------------------------------------------------+\n",
      "| Processes:                                                                  |\n",
      "|  GPU   GI   CI        PID   Type   Process name                  GPU Memory |\n",
      "|        ID   ID                                                   Usage      |\n",
      "|=============================================================================|\n",
      "|  No running processes found                                                 |\n",
      "+-----------------------------------------------------------------------------+\n"
     ]
    }
   ],
   "source": [
    "!nvidia-smi"
   ]
  },
  {
   "cell_type": "code",
   "execution_count": null,
   "metadata": {
    "colab": {
     "base_uri": "https://localhost:8080/"
    },
    "executionInfo": {
     "elapsed": 68808,
     "status": "ok",
     "timestamp": 1655476399068,
     "user": {
      "displayName": "Gianluca Truda",
      "userId": "10545274143306236899"
     },
     "user_tz": -60
    },
    "id": "cSVKDhe8nYUZ",
    "outputId": "56ab4fd1-1f29-444b-ea02-e12949118ef4"
   },
   "outputs": [],
   "source": [
    "# %%capture\n",
    "from __future__ import print_function\n",
    "import argparse\n",
    "import os\n",
    "from datetime import datetime\n",
    "import random\n",
    "import torch\n",
    "import torch.nn as nn\n",
    "import torch.nn.parallel\n",
    "import torch.backends.cudnn as cudnn\n",
    "import torch.optim as optim\n",
    "import torch.utils.data\n",
    "import numpy as np\n",
    "import pandas as pd\n",
    "\n",
    "import matplotlib.pyplot as plt\n",
    "from IPython.display import HTML\n",
    "import seaborn as sns\n",
    "from tqdm import tqdm"
   ]
  },
  {
   "cell_type": "code",
   "execution_count": 5,
   "metadata": {
    "colab": {
     "base_uri": "https://localhost:8080/"
    },
    "executionInfo": {
     "elapsed": 68808,
     "status": "ok",
     "timestamp": 1655476399068,
     "user": {
      "displayName": "Gianluca Truda",
      "userId": "10545274143306236899"
     },
     "user_tz": -60
    },
    "id": "cSVKDhe8nYUZ",
    "outputId": "56ab4fd1-1f29-444b-ea02-e12949118ef4",
    "tags": []
   },
   "outputs": [
    {
     "name": "stdout",
     "output_type": "stream",
     "text": [
      "time: 7.71 ms (started: 2023-05-30 22:29:57 +00:00)\n"
     ]
    }
   ],
   "source": [
    "%load_ext autotime\n",
    "\n",
    "# !pip install mlflow[extras]\n",
    "\n",
    "%matplotlib inline\n",
    "%config InlineBackend.figure_format = 'retina'\n",
    "\n",
    "# Set sensible defaults\n",
    "sns.set()\n",
    "sns.set_style(\"ticks\")\n",
    "sns.set_context('paper')"
   ]
  },
  {
   "cell_type": "code",
   "execution_count": 6,
   "metadata": {
    "colab": {
     "base_uri": "https://localhost:8080/"
    },
    "executionInfo": {
     "elapsed": 754,
     "status": "ok",
     "timestamp": 1655476399817,
     "user": {
      "displayName": "Gianluca Truda",
      "userId": "10545274143306236899"
     },
     "user_tz": -60
    },
    "id": "EUUSC4-yAhd1",
    "outputId": "981b2a59-2ee9-41b7-c8c8-18f19bf3957e"
   },
   "outputs": [
    {
     "name": "stdout",
     "output_type": "stream",
     "text": [
      "time: 331 ms (started: 2023-05-30 22:29:57 +00:00)\n"
     ]
    }
   ],
   "source": [
    "import mlflow\n",
    "import dotenv\n",
    "dotenv.load_dotenv()\n",
    "MLFLOW_URI = os.getenv(\"MLFLOW_URI\")\n",
    "mlflow.set_tracking_uri(MLFLOW_URI)"
   ]
  },
  {
   "cell_type": "code",
   "execution_count": 7,
   "metadata": {
    "colab": {
     "base_uri": "https://localhost:8080/"
    },
    "executionInfo": {
     "elapsed": 18,
     "status": "ok",
     "timestamp": 1655476399818,
     "user": {
      "displayName": "Gianluca Truda",
      "userId": "10545274143306236899"
     },
     "user_tz": -60
    },
    "id": "i-e1-i9m3FF7",
    "outputId": "9ed80332-7395-4da4-f9e6-ae359144c4a7"
   },
   "outputs": [
    {
     "name": "stdout",
     "output_type": "stream",
     "text": [
      "cuda:0\n",
      "time: 169 ms (started: 2023-05-30 22:29:58 +00:00)\n"
     ]
    }
   ],
   "source": [
    "# Decide which device we want to run on\n",
    "DEVICE = torch.device(\"cuda:0\" if (torch.cuda.is_available()) else \"cpu\")\n",
    "print(DEVICE)"
   ]
  },
  {
   "cell_type": "code",
   "execution_count": 8,
   "metadata": {
    "colab": {
     "base_uri": "https://localhost:8080/"
    },
    "executionInfo": {
     "elapsed": 320,
     "status": "ok",
     "timestamp": 1655476593616,
     "user": {
      "displayName": "Gianluca Truda",
      "userId": "10545274143306236899"
     },
     "user_tz": -60
    },
    "id": "JmQYHzNx2ew3",
    "outputId": "cdec7da8-6708-40d7-abb8-fb03af2d3b1f"
   },
   "outputs": [
    {
     "name": "stdout",
     "output_type": "stream",
     "text": [
      "Random (meta) seed:  999\n",
      "time: 30.5 ms (started: 2023-05-30 22:29:58 +00:00)\n"
     ]
    }
   ],
   "source": [
    "# Set random seed for reproducibility\n",
    "SEED = 999\n",
    "# SEED = random.randint(1, 10000) # use if you want new results\n",
    "print(\"Random (meta) seed: \", SEED)"
   ]
  },
  {
   "cell_type": "markdown",
   "metadata": {
    "id": "DhzsQzlwN7iq"
   },
   "source": [
    "# Synthesis loop\n",
    "\n",
    "Data synthesis over multiple synthesisers and datasets, with persistence."
   ]
  },
  {
   "cell_type": "code",
   "execution_count": 9,
   "metadata": {
    "colab": {
     "base_uri": "https://localhost:8080/"
    },
    "executionInfo": {
     "elapsed": 10,
     "status": "ok",
     "timestamp": 1655476594078,
     "user": {
      "displayName": "Gianluca Truda",
      "userId": "10545274143306236899"
     },
     "user_tz": -60
    },
    "id": "qlGXL-zHgz0m",
    "outputId": "171dad15-d633-447e-c688-b4feec5ff760"
   },
   "outputs": [
    {
     "name": "stdout",
     "output_type": "stream",
     "text": [
      "time: 23.8 ms (started: 2023-05-30 22:29:58 +00:00)\n"
     ]
    }
   ],
   "source": [
    "%load_ext autoreload\n",
    "%autoreload 2"
   ]
  },
  {
   "cell_type": "code",
   "execution_count": 10,
   "metadata": {
    "colab": {
     "base_uri": "https://localhost:8080/"
    },
    "executionInfo": {
     "elapsed": 8,
     "status": "ok",
     "timestamp": 1655476594079,
     "user": {
      "displayName": "Gianluca Truda",
      "userId": "10545274143306236899"
     },
     "user_tz": -60
    },
    "id": "NR1e3lM-brkM",
    "outputId": "65bf44b6-4a89-4207-ff84-385ab003601e"
   },
   "outputs": [
    {
     "name": "stdout",
     "output_type": "stream",
     "text": [
      "['/home/ubuntu/thesis-dp-synth', '/usr/lib/python310.zip', '/usr/lib/python3.10', '/usr/lib/python3.10/lib-dynload', '', '/home/ubuntu/.cache/pypoetry/virtualenvs/thesis-dp-synth-YuPmdaUF-py3.10/lib/python3.10/site-packages', 'dpgai']\n",
      "time: 19.2 ms (started: 2023-05-30 22:29:58 +00:00)\n"
     ]
    }
   ],
   "source": [
    "import sys\n",
    "\n",
    "sys.path.append(str(SRCDIR))\n",
    "print(sys.path)"
   ]
  },
  {
   "cell_type": "code",
   "execution_count": 11,
   "metadata": {
    "colab": {
     "base_uri": "https://localhost:8080/"
    },
    "executionInfo": {
     "elapsed": 8,
     "status": "ok",
     "timestamp": 1655476631728,
     "user": {
      "displayName": "Gianluca Truda",
      "userId": "10545274143306236899"
     },
     "user_tz": -60
    },
    "id": "cM80dsn9OG4l",
    "outputId": "07fcec56-106d-4beb-c7ee-21151defa7b2"
   },
   "outputs": [
    {
     "name": "stdout",
     "output_type": "stream",
     "text": [
      "time: 234 ms (started: 2023-05-30 22:29:58 +00:00)\n"
     ]
    }
   ],
   "source": [
    "from dpgai.models import *\n",
    "\n",
    "EPOCHS = 5\n",
    "DIFFUSION_STEPS = 3\n",
    "\n",
    "synthesisers = {\n",
    "    \"TableDiffusionDenoiser_Synthesiser\": (\n",
    "        TabDM_Synthesiser,\n",
    "        {\n",
    "            \"batch_size\": 1024,\n",
    "            \"lr\": 0.005,\n",
    "            \"dims\": (128, 128),\n",
    "            \"mlflow_logging\": True,\n",
    "            \"epoch_target\": EPOCHS * DIFFUSION_STEPS,\n",
    "            \"diffusion_steps\": DIFFUSION_STEPS,\n",
    "            \"predict_noise\": False,\n",
    "        },\n",
    "        {\n",
    "            \"n_epochs\": EPOCHS,\n",
    "            \"verbose\": True,\n",
    "        },\n",
    "        {\n",
    "            \"use_raw_data\": True,\n",
    "        },\n",
    "    ),\n",
    "    \"TableDiffusion_Synthesiser\": (\n",
    "        TabDM_Synthesiser,\n",
    "        {\n",
    "            \"batch_size\": 1024,\n",
    "            \"lr\": 0.005,\n",
    "            \"dims\": (128, 128),\n",
    "            \"mlflow_logging\": True,\n",
    "            \"epoch_target\": EPOCHS * DIFFUSION_STEPS,\n",
    "            \"diffusion_steps\": DIFFUSION_STEPS,\n",
    "            \"predict_noise\": True,\n",
    "        },\n",
    "        {\n",
    "            \"n_epochs\": EPOCHS,\n",
    "            \"verbose\": True,\n",
    "        },\n",
    "        {\n",
    "            \"use_raw_data\": True,\n",
    "        },\n",
    "    ),\n",
    "    \"DPautoGAN_Synthesiser\": (\n",
    "        DPautoGAN_Synthesiser,\n",
    "        {\n",
    "            'batch_size': 512,\n",
    "            'latent_dim': 64,\n",
    "            \"gen_dims\": (128, 128),\n",
    "            \"dis_dims\": (128, 128),\n",
    "            'gen_lr': 0.0001,\n",
    "            'dis_lr': 0.0007,\n",
    "            \"ae_lr\": 0.02,\n",
    "            \"ae_compress_dim\": 16,\n",
    "            \"ae_eps_frac\": 0.4,\n",
    "            'epoch_target': EPOCHS,\n",
    "            'mlflow_logging': True,\n",
    "        },\n",
    "        {\n",
    "            \"n_epochs\": EPOCHS,\n",
    "        },\n",
    "        {\n",
    "            \"use_raw_data\": False,\n",
    "        },\n",
    "    ),\n",
    "    \"DPWGAN_Synthesiser\": (\n",
    "        WGAN_Synthesiser,\n",
    "        {\n",
    "            \"batch_size\": 512,\n",
    "            'gen_lr': 0.005,\n",
    "            'dis_lr': 0.001,\n",
    "            \"latent_dim\": 64,\n",
    "            'n_critic': 2,\n",
    "            \"epoch_target\": EPOCHS,\n",
    "            \"mlflow_logging\": True,\n",
    "        },\n",
    "        {\n",
    "            \"n_epochs\": EPOCHS,\n",
    "        },\n",
    "        {\n",
    "            \"use_raw_data\": False,\n",
    "        },\n",
    "    ),\n",
    "    \"PATEGAN_Synthesiser\": (\n",
    "        PATEGAN_Synthesiser,\n",
    "        {\n",
    "            'batch_size': 1024,\n",
    "            \"gen_dims\": (128, 128),\n",
    "            \"dis_dims\": (128, 128),\n",
    "            'gen_lr': 0.1,\n",
    "            'dis_lr': 0.1,\n",
    "            'latent_dim': 64,\n",
    "            'num_teachers': 30,\n",
    "            'teacher_iters': 8,\n",
    "            'student_iters': 5,\n",
    "            'epoch_target': EPOCHS,\n",
    "            'mlflow_logging': True,\n",
    "        },\n",
    "        {\n",
    "            'n_epochs': EPOCHS,\n",
    "            'noise_multiplier': 0.0048,\n",
    "        },\n",
    "        {\n",
    "            \"use_raw_data\": False,\n",
    "        },\n",
    "    ),\n",
    "}"
   ]
  },
  {
   "cell_type": "code",
   "execution_count": 12,
   "metadata": {
    "executionInfo": {
     "elapsed": 6,
     "status": "ok",
     "timestamp": 1655476631729,
     "user": {
      "displayName": "Gianluca Truda",
      "userId": "10545274143306236899"
     },
     "user_tz": -60
    },
    "id": "KFgwQr_as1lg"
   },
   "outputs": [
    {
     "data": {
      "text/plain": [
       "{'TableDiffusionDenoiser_Synthesiser': (models.dp_tab_dm.TabDM_Synthesiser,\n",
       "  {'batch_size': 1024,\n",
       "   'lr': 0.005,\n",
       "   'dims': (128, 128),\n",
       "   'mlflow_logging': True,\n",
       "   'epoch_target': 15,\n",
       "   'diffusion_steps': 3,\n",
       "   'predict_noise': False},\n",
       "  {'n_epochs': 5, 'verbose': True},\n",
       "  {'use_raw_data': True}),\n",
       " 'TableDiffusion_Synthesiser': (models.dp_tab_dm.TabDM_Synthesiser,\n",
       "  {'batch_size': 1024,\n",
       "   'lr': 0.005,\n",
       "   'dims': (128, 128),\n",
       "   'mlflow_logging': True,\n",
       "   'epoch_target': 15,\n",
       "   'diffusion_steps': 3,\n",
       "   'predict_noise': True},\n",
       "  {'n_epochs': 5, 'verbose': True},\n",
       "  {'use_raw_data': True}),\n",
       " 'DPautoGAN_Synthesiser': (models.dp_auto_gan.DPautoGAN_Synthesiser,\n",
       "  {'batch_size': 512,\n",
       "   'latent_dim': 64,\n",
       "   'gen_dims': (128, 128),\n",
       "   'dis_dims': (128, 128),\n",
       "   'gen_lr': 0.0001,\n",
       "   'dis_lr': 0.0007,\n",
       "   'ae_lr': 0.02,\n",
       "   'ae_compress_dim': 16,\n",
       "   'ae_eps_frac': 0.4,\n",
       "   'epoch_target': 5,\n",
       "   'mlflow_logging': True},\n",
       "  {'n_epochs': 5},\n",
       "  {'use_raw_data': False}),\n",
       " 'DPWGAN_Synthesiser': (models.dp_wgan.WGAN_Synthesiser,\n",
       "  {'batch_size': 512,\n",
       "   'gen_lr': 0.005,\n",
       "   'dis_lr': 0.001,\n",
       "   'latent_dim': 64,\n",
       "   'n_critic': 2,\n",
       "   'epoch_target': 5,\n",
       "   'mlflow_logging': True},\n",
       "  {'n_epochs': 5},\n",
       "  {'use_raw_data': False}),\n",
       " 'PATEGAN_Synthesiser': (models.pate_gan.PATEGAN_Synthesiser,\n",
       "  {'batch_size': 1024,\n",
       "   'gen_dims': (128, 128),\n",
       "   'dis_dims': (128, 128),\n",
       "   'gen_lr': 0.1,\n",
       "   'dis_lr': 0.1,\n",
       "   'latent_dim': 64,\n",
       "   'num_teachers': 30,\n",
       "   'teacher_iters': 8,\n",
       "   'student_iters': 5,\n",
       "   'epoch_target': 5,\n",
       "   'mlflow_logging': True},\n",
       "  {'n_epochs': 5, 'noise_multiplier': 0.0048},\n",
       "  {'use_raw_data': False})}"
      ]
     },
     "execution_count": 12,
     "metadata": {},
     "output_type": "execute_result"
    },
    {
     "name": "stdout",
     "output_type": "stream",
     "text": [
      "time: 25.6 ms (started: 2023-05-30 22:29:58 +00:00)\n"
     ]
    }
   ],
   "source": [
    "synthesisers"
   ]
  },
  {
   "cell_type": "code",
   "execution_count": null,
   "metadata": {
    "colab": {
     "background_save": true,
     "base_uri": "https://localhost:8080/"
    },
    "id": "5Kg9cS7PN-b9"
   },
   "outputs": [],
   "source": [
    "from dpgai.config import datasets\n",
    "from dpgai.utilities import run_synthesisers\n",
    "\n",
    "exp_hash = datetime.now().strftime(\"%y%m%d_%H%M%S\")\n",
    "EXP_NAME = f\"exp_{exp_hash}\"\n",
    "\n",
    "# Make directories for experiment EXP_NAME\n",
    "EXP_PATH = RESULTDIR / EXP_NAME\n",
    "FAKE_DSET_PATH = EXP_PATH / \"fake_datasets\"\n",
    "if not os.path.exists(FAKE_DSET_PATH):\n",
    "    os.makedirs(FAKE_DSET_PATH)\n",
    "\n",
    "exp_id = mlflow.create_experiment(f\"{EXP_NAME}\")\n",
    "\n",
    "print(f\"\\n\\nRunning experiment: {EXP_NAME}\\n\\n\")\n",
    "\n",
    "run_synthesisers(\n",
    "    datasets=datasets,\n",
    "    synthesisers=synthesisers,\n",
    "    exp_name=EXP_NAME,\n",
    "    exp_id=exp_id,\n",
    "    datadir=DATADIR,\n",
    "    repodir=\"./\",\n",
    "    epsilon_values=[0.5, 1.0, 5.0, 10.0, 50.0, 100.0, 500.0, 1000.0],\n",
    "    repeats=10,\n",
    "    metaseed=SEED,\n",
    "    generate_fakes=True,\n",
    "    fake_sample_path=EXP_PATH / \"samples\",\n",
    "    fake_data_path=FAKE_DSET_PATH,\n",
    "    with_benchmark=True,\n",
    "    ctgan_epochs=30,\n",
    "    cuda=True,\n",
    ")\n",
    "\n",
    "mlflow.end_run()"
   ]
  }
 ],
 "metadata": {
  "accelerator": "GPU",
  "colab": {
   "background_execution": "on",
   "collapsed_sections": [],
   "machine_shape": "hm",
   "name": "synthesiser_comparison_v34.ipynb",
   "version": ""
  },
  "gpuClass": "standard",
  "kernelspec": {
   "display_name": "Python 3 (ipykernel)",
   "language": "python",
   "name": "python3"
  },
  "language_info": {
   "codemirror_mode": {
    "name": "ipython",
    "version": 3
   },
   "file_extension": ".py",
   "mimetype": "text/x-python",
   "name": "python",
   "nbconvert_exporter": "python",
   "pygments_lexer": "ipython3",
   "version": "3.10.8"
  }
 },
 "nbformat": 4,
 "nbformat_minor": 4
}
